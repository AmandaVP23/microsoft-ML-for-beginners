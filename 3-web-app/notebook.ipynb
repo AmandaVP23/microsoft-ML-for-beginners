{
 "cells": [
  {
   "cell_type": "markdown",
   "id": "e5b6a906",
   "metadata": {},
   "source": [
    "# Build a Web App to use a ML Model"
   ]
  }
 ],
 "metadata": {
  "language_info": {
   "name": "python"
  }
 },
 "nbformat": 4,
 "nbformat_minor": 5
}
