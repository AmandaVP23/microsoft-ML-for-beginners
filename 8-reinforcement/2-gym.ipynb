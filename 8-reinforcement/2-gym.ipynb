{
 "cells": [
  {
   "cell_type": "markdown",
   "id": "d47c40f7",
   "metadata": {},
   "source": [
    "# CartPole Skating\n",
    "We will use a special **simulation environment**, which will simulate the physics behind the balancing pole.\n",
    "One of the most popular simulation environments for training reinforcement learning alrogithms is called a Gym, which was maintained by OpenAI.\n",
    "By using this gym we can create different **environments** from a cartpole simulation to Atari games."
   ]
  },
  {
   "cell_type": "code",
   "execution_count": 1,
   "id": "a45c4a3a",
   "metadata": {},
   "outputs": [],
   "source": [
    "import sys\n",
    "import gymnasium as gym\n",
    "import matplotlib.pyplot as plt\n",
    "import numpy as np\n",
    "import random"
   ]
  },
  {
   "cell_type": "markdown",
   "id": "a8842888",
   "metadata": {},
   "source": [
    "### Initialize a cartpole environment\n",
    "To work with a cartpole balancing problem, we need to initialize corresponding environment. Each environment is associated with an:\n",
    "\n",
    "- **Observation space** that defines the structure of information that we receive from the environment. For cartpole problem, we receive position of the pole, velocity and some other values.\n",
    "\n",
    "- **Action space** that defines possible actions. In our case the action space is discrete, and consists of two actions - **left** and **right**."
   ]
  },
  {
   "cell_type": "code",
   "execution_count": 2,
   "id": "2c7eb80a",
   "metadata": {},
   "outputs": [
    {
     "name": "stdout",
     "output_type": "stream",
     "text": [
      "Discrete(2)\n",
      "Box([-4.8               -inf -0.41887903        -inf], [4.8               inf 0.41887903        inf], (4,), float32)\n",
      "0\n"
     ]
    }
   ],
   "source": [
    "# Initialize\n",
    "env = gym.make('CartPole-v1', render_mode='human')\n",
    "print(env.action_space)\n",
    "print(env.observation_space)\n",
    "print(env.action_space.sample())"
   ]
  },
  {
   "cell_type": "markdown",
   "id": "e334b39b",
   "metadata": {},
   "source": [
    "To see how the environment works lets run a short simulation for 100 steps. At each step, we providade one of the actions to be taken - in this simulation we just randomly select an action from `action_space`"
   ]
  },
  {
   "cell_type": "code",
   "execution_count": 3,
   "id": "959868d4",
   "metadata": {},
   "outputs": [
    {
     "name": "stderr",
     "output_type": "stream",
     "text": [
      "/Users/amanda/code/AI/microsoft-ML-for-beginners/.venv/lib/python3.13/site-packages/gymnasium/envs/classic_control/cartpole.py:214: UserWarning: \u001b[33mWARN: You are calling 'step()' even though this environment has already returned terminated = True. You should always call 'reset()' once you receive 'terminated = True' -- any further steps are undefined behavior.\u001b[0m\n",
      "  logger.warn(\n"
     ]
    }
   ],
   "source": [
    "env.reset()\n",
    "\n",
    "for i in range(100):\n",
    "    env.render()\n",
    "    env.step(env.action_space.sample())\n",
    "env.close()"
   ]
  },
  {
   "cell_type": "markdown",
   "id": "4d72b303",
   "metadata": {},
   "source": [
    "During simulation, we need to get observations in order to decide how to act. In fact, the step function returns current observations, a reward function, and the done flag that indicates whether it makes sense to continue the simulation or not."
   ]
  },
  {
   "cell_type": "code",
   "execution_count": null,
   "id": "8eb8b9d3",
   "metadata": {},
   "outputs": [
    {
     "ename": "error",
     "evalue": "display Surface quit",
     "output_type": "error",
     "traceback": [
      "\u001b[31m---------------------------------------------------------------------------\u001b[39m",
      "\u001b[31merror\u001b[39m                                     Traceback (most recent call last)",
      "\u001b[36mCell\u001b[39m\u001b[36m \u001b[39m\u001b[32mIn[4]\u001b[39m\u001b[32m, line 1\u001b[39m\n\u001b[32m----> \u001b[39m\u001b[32m1\u001b[39m \u001b[43menv\u001b[49m\u001b[43m.\u001b[49m\u001b[43mreset\u001b[49m\u001b[43m(\u001b[49m\u001b[43m)\u001b[49m\n\u001b[32m      3\u001b[39m done = \u001b[38;5;28;01mFalse\u001b[39;00m\n\u001b[32m      4\u001b[39m \u001b[38;5;28;01mwhile\u001b[39;00m \u001b[38;5;129;01mnot\u001b[39;00m done:\n",
      "\u001b[36mFile \u001b[39m\u001b[32m~/code/AI/microsoft-ML-for-beginners/.venv/lib/python3.13/site-packages/gymnasium/wrappers/common.py:146\u001b[39m, in \u001b[36mTimeLimit.reset\u001b[39m\u001b[34m(self, seed, options)\u001b[39m\n\u001b[32m    136\u001b[39m \u001b[38;5;250m\u001b[39m\u001b[33;03m\"\"\"Resets the environment with :param:`**kwargs` and sets the number of steps elapsed to zero.\u001b[39;00m\n\u001b[32m    137\u001b[39m \n\u001b[32m    138\u001b[39m \u001b[33;03mArgs:\u001b[39;00m\n\u001b[32m   (...)\u001b[39m\u001b[32m    143\u001b[39m \u001b[33;03m    The reset environment\u001b[39;00m\n\u001b[32m    144\u001b[39m \u001b[33;03m\"\"\"\u001b[39;00m\n\u001b[32m    145\u001b[39m \u001b[38;5;28mself\u001b[39m._elapsed_steps = \u001b[32m0\u001b[39m\n\u001b[32m--> \u001b[39m\u001b[32m146\u001b[39m \u001b[38;5;28;01mreturn\u001b[39;00m \u001b[38;5;28;43msuper\u001b[39;49m\u001b[43m(\u001b[49m\u001b[43m)\u001b[49m\u001b[43m.\u001b[49m\u001b[43mreset\u001b[49m\u001b[43m(\u001b[49m\u001b[43mseed\u001b[49m\u001b[43m=\u001b[49m\u001b[43mseed\u001b[49m\u001b[43m,\u001b[49m\u001b[43m \u001b[49m\u001b[43moptions\u001b[49m\u001b[43m=\u001b[49m\u001b[43moptions\u001b[49m\u001b[43m)\u001b[49m\n",
      "\u001b[36mFile \u001b[39m\u001b[32m~/code/AI/microsoft-ML-for-beginners/.venv/lib/python3.13/site-packages/gymnasium/core.py:333\u001b[39m, in \u001b[36mWrapper.reset\u001b[39m\u001b[34m(self, seed, options)\u001b[39m\n\u001b[32m    329\u001b[39m \u001b[38;5;28;01mdef\u001b[39;00m\u001b[38;5;250m \u001b[39m\u001b[34mreset\u001b[39m(\n\u001b[32m    330\u001b[39m     \u001b[38;5;28mself\u001b[39m, *, seed: \u001b[38;5;28mint\u001b[39m | \u001b[38;5;28;01mNone\u001b[39;00m = \u001b[38;5;28;01mNone\u001b[39;00m, options: \u001b[38;5;28mdict\u001b[39m[\u001b[38;5;28mstr\u001b[39m, Any] | \u001b[38;5;28;01mNone\u001b[39;00m = \u001b[38;5;28;01mNone\u001b[39;00m\n\u001b[32m    331\u001b[39m ) -> \u001b[38;5;28mtuple\u001b[39m[WrapperObsType, \u001b[38;5;28mdict\u001b[39m[\u001b[38;5;28mstr\u001b[39m, Any]]:\n\u001b[32m    332\u001b[39m \u001b[38;5;250m    \u001b[39m\u001b[33;03m\"\"\"Uses the :meth:`reset` of the :attr:`env` that can be overwritten to change the returned data.\"\"\"\u001b[39;00m\n\u001b[32m--> \u001b[39m\u001b[32m333\u001b[39m     \u001b[38;5;28;01mreturn\u001b[39;00m \u001b[38;5;28;43mself\u001b[39;49m\u001b[43m.\u001b[49m\u001b[43menv\u001b[49m\u001b[43m.\u001b[49m\u001b[43mreset\u001b[49m\u001b[43m(\u001b[49m\u001b[43mseed\u001b[49m\u001b[43m=\u001b[49m\u001b[43mseed\u001b[49m\u001b[43m,\u001b[49m\u001b[43m \u001b[49m\u001b[43moptions\u001b[49m\u001b[43m=\u001b[49m\u001b[43moptions\u001b[49m\u001b[43m)\u001b[49m\n",
      "\u001b[36mFile \u001b[39m\u001b[32m~/code/AI/microsoft-ML-for-beginners/.venv/lib/python3.13/site-packages/gymnasium/wrappers/common.py:400\u001b[39m, in \u001b[36mOrderEnforcing.reset\u001b[39m\u001b[34m(self, seed, options)\u001b[39m\n\u001b[32m    398\u001b[39m \u001b[38;5;250m\u001b[39m\u001b[33;03m\"\"\"Resets the environment with `kwargs`.\"\"\"\u001b[39;00m\n\u001b[32m    399\u001b[39m \u001b[38;5;28mself\u001b[39m._has_reset = \u001b[38;5;28;01mTrue\u001b[39;00m\n\u001b[32m--> \u001b[39m\u001b[32m400\u001b[39m \u001b[38;5;28;01mreturn\u001b[39;00m \u001b[38;5;28;43msuper\u001b[39;49m\u001b[43m(\u001b[49m\u001b[43m)\u001b[49m\u001b[43m.\u001b[49m\u001b[43mreset\u001b[49m\u001b[43m(\u001b[49m\u001b[43mseed\u001b[49m\u001b[43m=\u001b[49m\u001b[43mseed\u001b[49m\u001b[43m,\u001b[49m\u001b[43m \u001b[49m\u001b[43moptions\u001b[49m\u001b[43m=\u001b[49m\u001b[43moptions\u001b[49m\u001b[43m)\u001b[49m\n",
      "\u001b[36mFile \u001b[39m\u001b[32m~/code/AI/microsoft-ML-for-beginners/.venv/lib/python3.13/site-packages/gymnasium/core.py:333\u001b[39m, in \u001b[36mWrapper.reset\u001b[39m\u001b[34m(self, seed, options)\u001b[39m\n\u001b[32m    329\u001b[39m \u001b[38;5;28;01mdef\u001b[39;00m\u001b[38;5;250m \u001b[39m\u001b[34mreset\u001b[39m(\n\u001b[32m    330\u001b[39m     \u001b[38;5;28mself\u001b[39m, *, seed: \u001b[38;5;28mint\u001b[39m | \u001b[38;5;28;01mNone\u001b[39;00m = \u001b[38;5;28;01mNone\u001b[39;00m, options: \u001b[38;5;28mdict\u001b[39m[\u001b[38;5;28mstr\u001b[39m, Any] | \u001b[38;5;28;01mNone\u001b[39;00m = \u001b[38;5;28;01mNone\u001b[39;00m\n\u001b[32m    331\u001b[39m ) -> \u001b[38;5;28mtuple\u001b[39m[WrapperObsType, \u001b[38;5;28mdict\u001b[39m[\u001b[38;5;28mstr\u001b[39m, Any]]:\n\u001b[32m    332\u001b[39m \u001b[38;5;250m    \u001b[39m\u001b[33;03m\"\"\"Uses the :meth:`reset` of the :attr:`env` that can be overwritten to change the returned data.\"\"\"\u001b[39;00m\n\u001b[32m--> \u001b[39m\u001b[32m333\u001b[39m     \u001b[38;5;28;01mreturn\u001b[39;00m \u001b[38;5;28;43mself\u001b[39;49m\u001b[43m.\u001b[49m\u001b[43menv\u001b[49m\u001b[43m.\u001b[49m\u001b[43mreset\u001b[49m\u001b[43m(\u001b[49m\u001b[43mseed\u001b[49m\u001b[43m=\u001b[49m\u001b[43mseed\u001b[49m\u001b[43m,\u001b[49m\u001b[43m \u001b[49m\u001b[43moptions\u001b[49m\u001b[43m=\u001b[49m\u001b[43moptions\u001b[49m\u001b[43m)\u001b[49m\n",
      "\u001b[36mFile \u001b[39m\u001b[32m~/code/AI/microsoft-ML-for-beginners/.venv/lib/python3.13/site-packages/gymnasium/wrappers/common.py:295\u001b[39m, in \u001b[36mPassiveEnvChecker.reset\u001b[39m\u001b[34m(self, seed, options)\u001b[39m\n\u001b[32m    293\u001b[39m     \u001b[38;5;28;01mreturn\u001b[39;00m env_reset_passive_checker(\u001b[38;5;28mself\u001b[39m.env, seed=seed, options=options)\n\u001b[32m    294\u001b[39m \u001b[38;5;28;01melse\u001b[39;00m:\n\u001b[32m--> \u001b[39m\u001b[32m295\u001b[39m     \u001b[38;5;28;01mreturn\u001b[39;00m \u001b[38;5;28;43mself\u001b[39;49m\u001b[43m.\u001b[49m\u001b[43menv\u001b[49m\u001b[43m.\u001b[49m\u001b[43mreset\u001b[49m\u001b[43m(\u001b[49m\u001b[43mseed\u001b[49m\u001b[43m=\u001b[49m\u001b[43mseed\u001b[49m\u001b[43m,\u001b[49m\u001b[43m \u001b[49m\u001b[43moptions\u001b[49m\u001b[43m=\u001b[49m\u001b[43moptions\u001b[49m\u001b[43m)\u001b[49m\n",
      "\u001b[36mFile \u001b[39m\u001b[32m~/code/AI/microsoft-ML-for-beginners/.venv/lib/python3.13/site-packages/gymnasium/envs/classic_control/cartpole.py:244\u001b[39m, in \u001b[36mCartPoleEnv.reset\u001b[39m\u001b[34m(self, seed, options)\u001b[39m\n\u001b[32m    241\u001b[39m \u001b[38;5;28mself\u001b[39m.steps_beyond_terminated = \u001b[38;5;28;01mNone\u001b[39;00m\n\u001b[32m    243\u001b[39m \u001b[38;5;28;01mif\u001b[39;00m \u001b[38;5;28mself\u001b[39m.render_mode == \u001b[33m\"\u001b[39m\u001b[33mhuman\u001b[39m\u001b[33m\"\u001b[39m:\n\u001b[32m--> \u001b[39m\u001b[32m244\u001b[39m     \u001b[38;5;28;43mself\u001b[39;49m\u001b[43m.\u001b[49m\u001b[43mrender\u001b[49m\u001b[43m(\u001b[49m\u001b[43m)\u001b[49m\n\u001b[32m    245\u001b[39m \u001b[38;5;28;01mreturn\u001b[39;00m np.array(\u001b[38;5;28mself\u001b[39m.state, dtype=np.float32), {}\n",
      "\u001b[36mFile \u001b[39m\u001b[32m~/code/AI/microsoft-ML-for-beginners/.venv/lib/python3.13/site-packages/gymnasium/envs/classic_control/cartpole.py:334\u001b[39m, in \u001b[36mCartPoleEnv.render\u001b[39m\u001b[34m(self)\u001b[39m\n\u001b[32m    331\u001b[39m gfxdraw.hline(\u001b[38;5;28mself\u001b[39m.surf, \u001b[32m0\u001b[39m, \u001b[38;5;28mself\u001b[39m.screen_width, carty, (\u001b[32m0\u001b[39m, \u001b[32m0\u001b[39m, \u001b[32m0\u001b[39m))\n\u001b[32m    333\u001b[39m \u001b[38;5;28mself\u001b[39m.surf = pygame.transform.flip(\u001b[38;5;28mself\u001b[39m.surf, \u001b[38;5;28;01mFalse\u001b[39;00m, \u001b[38;5;28;01mTrue\u001b[39;00m)\n\u001b[32m--> \u001b[39m\u001b[32m334\u001b[39m \u001b[38;5;28;43mself\u001b[39;49m\u001b[43m.\u001b[49m\u001b[43mscreen\u001b[49m\u001b[43m.\u001b[49m\u001b[43mblit\u001b[49m\u001b[43m(\u001b[49m\u001b[38;5;28;43mself\u001b[39;49m\u001b[43m.\u001b[49m\u001b[43msurf\u001b[49m\u001b[43m,\u001b[49m\u001b[43m \u001b[49m\u001b[43m(\u001b[49m\u001b[32;43m0\u001b[39;49m\u001b[43m,\u001b[49m\u001b[43m \u001b[49m\u001b[32;43m0\u001b[39;49m\u001b[43m)\u001b[49m\u001b[43m)\u001b[49m\n\u001b[32m    335\u001b[39m \u001b[38;5;28;01mif\u001b[39;00m \u001b[38;5;28mself\u001b[39m.render_mode == \u001b[33m\"\u001b[39m\u001b[33mhuman\u001b[39m\u001b[33m\"\u001b[39m:\n\u001b[32m    336\u001b[39m     pygame.event.pump()\n",
      "\u001b[31merror\u001b[39m: display Surface quit"
     ]
    },
    {
     "ename": "",
     "evalue": "",
     "output_type": "error",
     "traceback": [
      "\u001b[1;31mThe Kernel crashed while executing code in the current cell or a previous cell. \n",
      "\u001b[1;31mPlease review the code in the cell(s) to identify a possible cause of the failure. \n",
      "\u001b[1;31mClick <a href='https://aka.ms/vscodeJupyterKernelCrash'>here</a> for more info. \n",
      "\u001b[1;31mView Jupyter <a href='command:jupyter.viewOutput'>log</a> for further details."
     ]
    }
   ],
   "source": [
    "env.reset()\n",
    "\n",
    "done = False\n",
    "while not done:\n",
    "    env.render()\n",
    "    obs, rew, terminated, truncated, info = env.step(env.action_space.sample())\n",
    "    done = terminated or truncated\n",
    "    print(f\"{obs} -> {rew}\")\n",
    "env.close()"
   ]
  },
  {
   "cell_type": "markdown",
   "id": "79d0b04d",
   "metadata": {},
   "source": [
    "The observation vector that is returned at each step of the simulation contains the following values:\n",
    "\n",
    "    - Position of cart\n",
    "    - Velocity of cart\n",
    "    - Angle of pole\n",
    "    - Rotation rate of pole"
   ]
  },
  {
   "cell_type": "code",
   "execution_count": null,
   "id": "6f6c999b",
   "metadata": {},
   "outputs": [],
   "source": [
    "# get min and max value of those numbers\n",
    "print(env.observation_space.low)\n",
    "print(env.observation_space.high)"
   ]
  },
  {
   "cell_type": "markdown",
   "id": "92e90f05",
   "metadata": {},
   "source": [
    "You may also notice that reward value on each simulation step is always 1. This is because our goal is to survive as long as possible, i.e. keep the pole to a reasonably vertical position for the longest period of time.\n",
    "\n",
    "✅ In fact, the CartPole simulation is considered solved if we manage to get the average reward of 195 over 100 consecutive trials."
   ]
  },
  {
   "cell_type": "markdown",
   "id": "a17dd918",
   "metadata": {},
   "source": [
    "### State discretization\n",
    "\n",
    "In Q-Learning, we need to build Q-Table that defines what to do at each state. To be able to do this, we need state to be discreet, more precisely, it should contain finite number of discrete values. Thus, we need somehow to discretize our observations, mapping them to a finite set of states.\n",
    "\n",
    "There are a few ways we can do this:\n",
    "\n",
    "- **Divide into bins**. If we know the interval of a certain value, we can divide this interval into a number of **bins**, and then replace the value by the bin number that it belongs to. This can be done using the numpy [`digitize`](https://numpy.org/doc/stable/reference/generated/numpy.digitize.html) method. In this case, we will precisely know the state size, because it will depend on the number of bins we select for digitalization.\n",
    "\n",
    "✅ We can use linear interpolation to bring values to some finite interval (say, from -20 to 20), and then convert numbers to integers by rounding them. This gives us a bit less control on the size of the state, especially if we do not know the exact ranges of input values. For example, in our case 2 out of 4 values do not have upper/lower bounds on their values, which may result in the infinite number of states.\n",
    "\n",
    "In our example, we will go with the second approach. As you may notice later, despite undefined upper/lower bounds, those value rarely take values outside of certain finite intervals, thus those states with extreme values will be very rare.\n"
   ]
  },
  {
   "cell_type": "code",
   "execution_count": null,
   "id": "801160d6",
   "metadata": {},
   "outputs": [],
   "source": [
    "# function that will take the observation from our model and produce a tuple of 4 integer values\n",
    "def discretize(x):\n",
    "    return tuple((x / np.array([0.25, 0.25, 0.01, 0.1])).astype(int))"
   ]
  },
  {
   "cell_type": "markdown",
   "id": "24a7cf6f",
   "metadata": {},
   "source": [
    "Let's also explore another discretization method using bins:"
   ]
  },
  {
   "cell_type": "code",
   "execution_count": null,
   "id": "3e1ab656",
   "metadata": {},
   "outputs": [],
   "source": [
    "def create_bins(i, num):\n",
    "    return np.arrange(num + 1) * (i[1] - i[0]) / num + i[0]\n",
    "\n",
    "print(\"Sample bins for interval (-5, 5) with 10 bins\\n\", create_bins((-5, 5), 10))\n",
    "\n",
    "ints = [(-5,5),(-2,2),(-0.5,0.5),(-2,2)] # intervals of values for each parameter\n",
    "nbins = [20,20,10,10] # number of bins for each parameter\n",
    "bins = [create_bins(ints[i],nbins[i]) for i in range(4)]\n",
    "\n",
    "def discretize_bins(x):\n",
    "    return tuple(np.digitize(x[i], bins[i]) for i in range(4))"
   ]
  },
  {
   "cell_type": "markdown",
   "id": "4d4f1b53",
   "metadata": {},
   "source": [
    "Lets run a short simulation and observe those discrete environment values. Feel free to try both `discretize` and `discretize_bins` and see if there is a difference\n",
    "\n",
    "    ✅ discretize_bins returns the bin number, which is 0-based. Thus for values of input variable around 0 it returns the number from the middle of the interval (10). In discretize, we did not care about the range of output values, allowing them to be negative, thus the state values are not shifted, and 0 corresponds to 0"
   ]
  },
  {
   "cell_type": "code",
   "execution_count": null,
   "id": "498733f3",
   "metadata": {},
   "outputs": [],
   "source": [
    "env.reset()\n",
    "\n",
    "done = False\n",
    "while not done:\n",
    "    #env.render()\n",
    "    obs, rew, terminated, truncated, info = env.step(env.action_space.sample())\n",
    "    done = terminated or truncated\n",
    "    #print(discretize_bins(obs))\n",
    "    print(discretize(obs))\n",
    "env.close()"
   ]
  },
  {
   "cell_type": "markdown",
   "id": "a7c4d9f0",
   "metadata": {},
   "source": [
    "## The Q-table strucutre"
   ]
  },
  {
   "cell_type": "markdown",
   "id": "40e8fc5f",
   "metadata": {},
   "source": [
    "If we use bins discretization, the size of our state vector is also known, so we can use the same approach and represent state by an array of shape 20x20x10x10x2 (here 2 is the dimension of action space, and first dimensions correspond to the number of bins we have selected to use for each of the parameters in observation space).\n",
    "\n",
    "However, sometimes precise dimensions of the observation space are not known. In case of the `discretize` function, we may never be sure that our state stays within certain limits, because some of the original values are not bound. Thus, we will use a slightly different approach and represent Q-Table by a dictionary. "
   ]
  },
  {
   "cell_type": "code",
   "execution_count": null,
   "id": "1394e949",
   "metadata": {},
   "outputs": [],
   "source": [
    "Q = {}\n",
    "actions = (0, 1)\n",
    "\n",
    "def qvalues(state):\n",
    "    return [Q.get((state, a), 0) for a in actions]"
   ]
  },
  {
   "cell_type": "markdown",
   "id": "33522a41",
   "metadata": {},
   "source": [
    "`qvalues` returns a list of Q-Table values for a given state that corresponds to all possible actions. If the entry is not present in the Q-Table, we will return 0 as the default."
   ]
  },
  {
   "cell_type": "markdown",
   "id": "3add2e81",
   "metadata": {},
   "source": [
    "### Lets start Q-Learning\n",
    "\n",
    "Now we are ready to teach Peter to balance!"
   ]
  },
  {
   "cell_type": "code",
   "execution_count": null,
   "id": "b7e79339",
   "metadata": {},
   "outputs": [],
   "source": [
    "# Set some hyperparameters\n",
    "alpha = 0.3\n",
    "gamma = 0.9\n",
    "epsilon = 0.90"
   ]
  },
  {
   "cell_type": "markdown",
   "id": "a292ec93",
   "metadata": {},
   "source": [
    "Here, `alpha` is the **learning rate** that defines to which extent we should adjust the current values of Q-Table at each step. In the previous lesson we started with 1, and then decreased `alpha` to lower values during training. In this example we will keep it constant just for simplicity, and you can experiment with adjusting `alpha` values later.\n",
    "\n",
    "`gamma` is the **discount factor** that shows to which extent we should prioritize future reward over current reward.\n",
    "\n",
    "`epsilon` is the **exploration/exploitation factor** that determines whether we should prefer exploration to exploitation or vice versa. In our algorithm, we will in `epsilon` percent of the cases select the next action according to Q-Table values, and in the remaining number of cases we will execute a random action. This will allow us to explore areas of the search space that we have never seen before. \n",
    "\n",
    "✅ In terms of balancing - choosing random action (exploration) would act as a random punch in the wrong direction, and the pole would have to learn how to recover the balance from those \"mistakes\""
   ]
  },
  {
   "cell_type": "markdown",
   "id": "51b03da0",
   "metadata": {},
   "source": [
    "### Improve the algorithm\n",
    "\n",
    "We can also make two improvements to our algorithm from the previous lesson:\n",
    "\n",
    "- **Calculate average cumulative reward**, over a number of simulations. We will print the progress each 5000 iterations, and we will average out our cumulative reward over that period of time. It means that if we get more than 195 point - we can consider the problem solved, with even higher quality than required.\n",
    "  \n",
    "- **Calculate maximum average cumulative result**, `Qmax`, and we will store the Q-Table corresponding to that result. When you run the training you will notice that sometimes the average cumulative result starts to drop, and we want to keep the values of Q-Table that correspond to the best model observed during training."
   ]
  },
  {
   "cell_type": "code",
   "execution_count": null,
   "id": "178d1867",
   "metadata": {},
   "outputs": [],
   "source": [
    "# Collect all cumulative rewards at each simulation at `rewards` vector for futher plotting\n",
    "def probs(v, eps=1e-4):\n",
    "    v = v-v.min() + eps\n",
    "    v = v/v.sum()\n",
    "    return v\n",
    "\n",
    "Qmax = 0\n",
    "cum_rewards = []\n",
    "rewards = []\n",
    "for epoch in range(100000):\n",
    "    obs = env.reset()\n",
    "    done = False\n",
    "    cum_reward=0\n",
    "    # == do the simulation ==\n",
    "    while not done:\n",
    "        s = discretize(obs)\n",
    "        if random.random() < epsilon:\n",
    "            # exploitation - chose the action according to Q Table probabilities\n",
    "            v = probs(np.array(qvalues(s)))\n",
    "            a = random.choices(actions, weights=v)[0]\n",
    "        else:\n",
    "            # exploration - randomly chose the action\n",
    "            a = np.random().randint(env.action_space.n)\n",
    "\n",
    "        obs, rew, done, info = env.step(a)\n",
    "        cum_reward += rew\n",
    "        ns = discretize(obs)\n",
    "        Q[(s, a)] = (1 - alpha) * Q.get((s, a), 0) + alpha * (rew + gamma * max(qvalues(ns)))\n",
    "\n",
    "    cum_rewards.append(cum_reward)\n",
    "    rewards.append(cum_reward)\n",
    "\n",
    "    # == Periodically print results and calculate average reward ==\n",
    "    if epoch % 5000 == 0:\n",
    "        print(f\"{epoch}: {np.average(cum_rewards)}, alpha={alpha}, epsilon={epsilon}\")\n",
    "        if np.average(cum_rewards) > Qmax:\n",
    "            Qmax = np.average(cum_rewards)\n",
    "            Qbest = Q\n",
    "        cum_rewards = []"
   ]
  },
  {
   "cell_type": "markdown",
   "id": "7349a1c7",
   "metadata": {},
   "source": [
    "What you may notice from those results:\n",
    "\n",
    "- **Close to our goal**. We are very close to achieving the goal of getting 195 cumulative rewards over 100+ consecutive runs of the simulation, or we may have actually achieved it! Even if we get smaller numbers, we still do not know, because we average over 5000 runs, and only 100 runs is required in the formal criteria.\n",
    "  \n",
    "- **Reward starts to drop**. Sometimes the reward start to drop, which means that we can \"destroy\" already learnt values in the Q-Table with the ones that make the situation worse.\n",
    "\n",
    "This observation is more clearly visible if we plot training progress."
   ]
  },
  {
   "cell_type": "markdown",
   "id": "1c9a6d98",
   "metadata": {},
   "source": [
    "### Plotting the training process"
   ]
  },
  {
   "cell_type": "markdown",
   "id": "9bb9db3a",
   "metadata": {},
   "source": [
    "During training, we have collected the cumulative reward value at each of the iterations into `rewards` vector. Here is how it looks when we plot it against the iteration number:"
   ]
  },
  {
   "cell_type": "code",
   "execution_count": null,
   "id": "2977d0d3",
   "metadata": {},
   "outputs": [],
   "source": [
    "plt.plot(rewards)"
   ]
  },
  {
   "cell_type": "markdown",
   "id": "21b8a06a",
   "metadata": {},
   "source": [
    "From this graph, it is not possible to tell anything, because due to the nature of stochastic training process the length of training sessions varies greatly. To make more sense of this graph, we can calculate the **running average** over a series of experiments, let's say 100. This can be done conveniently using `np.convolve`"
   ]
  },
  {
   "cell_type": "code",
   "execution_count": null,
   "id": "ae8b79ae",
   "metadata": {},
   "outputs": [],
   "source": [
    "def running_average(x,window):\n",
    "    return np.convolve(x,np.ones(window)/window,mode='valid')\n",
    "\n",
    "plt.plot(running_average(rewards,100))"
   ]
  },
  {
   "cell_type": "markdown",
   "id": "ecd8d6e0",
   "metadata": {},
   "source": [
    "### Verifying hyperparameters\n",
    "To make learning more stable, it makes sense to adjust some of our hyperparameters during training. In particular:\n",
    "\n",
    "- **For learning rate**, `alpha`, we may start with values close to 1, and then keep decreasing the parameter. With time, we will be getting good probability values in the Q-Table, and thus we should be adjusting them slightly, and not overwriting completely with new values.\n",
    "\n",
    "- **Increase epsilon**. We may want to increase the `epsilon` slowly, in order to explore less and exploit more. It probably makes sense to start with lower value of `epsilon`, and move up to almost 1.\n",
    "\n",
    "> **Task 1**: Play with hyperparameter values and see if you can achieve higher cumulative reward. Are you getting above 195?\n",
    "\n",
    "> **Task 2**: To formally solve the problem, you need to get 195 average reward across 100 consecutive runs. Measure that during training and make sure that you have formally solved the problem!"
   ]
  },
  {
   "cell_type": "markdown",
   "id": "7bf999a2",
   "metadata": {},
   "source": [
    "### Seeing the result in action\n",
    "\n",
    "It would be interesting to actually see how the trained model behaves. Let's run the simulation and follow the same action selection strategy as during training, sampling according to the probability distribution in Q-Table: (code block 13)"
   ]
  },
  {
   "cell_type": "code",
   "execution_count": null,
   "id": "ac461c26",
   "metadata": {},
   "outputs": [],
   "source": [
    "obs = env.reset()\n",
    "done = False\n",
    "while not done:\n",
    "    s = discretize(obs)\n",
    "    env.render()\n",
    "    v = probs(np.array(qvalues(s)))\n",
    "    a = random.choices(actions, weights=v)[0]\n",
    "    obs, rew, terminated, truncated, info = env.step(a)\n",
    "    done = terminated or truncated\n",
    "\n",
    "env.close()"
   ]
  },
  {
   "cell_type": "markdown",
   "id": "99298243",
   "metadata": {},
   "source": [
    "## 🚀Challenge\n",
    "\n",
    "> **Task 3**: Here, we were using the final copy of Q-Table, which may not be the best one. Remember that we have stored the best-performing Q-Table into `Qbest` variable! Try the same example with the best-performing Q-Table by copying `Qbest` over to `Q` and see if you notice the difference.\n",
    "\n",
    "> **Task 4**: Here we were not selecting the best action on each step, but rather sampling with corresponding probability distribution. Would it make more sense to always select the best action, with the highest Q-Table value? This can be done by using `np.argmax` function to find out the action number corresponding to highers Q-Table value. Implement this strategy and see if it improves the balancing."
   ]
  },
  {
   "cell_type": "markdown",
   "id": "5f403a94",
   "metadata": {},
   "source": [
    "## Conclusion\n",
    "\n",
    "We have now learned how to train agents to achieve good results just by providing them a reward function that defines the desired state of the game, and by giving them an opportunity to intelligently explore the search space. We have successfully applied the Q-Learning algorithm in the cases of discrete and continuous environments, but with discrete actions.\n",
    "\n",
    "It's important to also study situations where action state is also continuous, and when observation space is much more complex, such as the image from the Atari game screen. In those problems we often need to use more powerful machine learning techniques, such as neural networks, in order to achieve good results. "
   ]
  }
 ],
 "metadata": {
  "kernelspec": {
   "display_name": ".venv (3.13.7)",
   "language": "python",
   "name": "python3"
  },
  "language_info": {
   "codemirror_mode": {
    "name": "ipython",
    "version": 3
   },
   "file_extension": ".py",
   "mimetype": "text/x-python",
   "name": "python",
   "nbconvert_exporter": "python",
   "pygments_lexer": "ipython3",
   "version": "3.13.7"
  }
 },
 "nbformat": 4,
 "nbformat_minor": 5
}
