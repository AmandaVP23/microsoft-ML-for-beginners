{
 "cells": [
  {
   "cell_type": "markdown",
   "id": "b8dbbd79",
   "metadata": {},
   "source": [
    "# Welcome to your notebook\n"
   ]
  },
  {
   "cell_type": "code",
   "execution_count": 1,
   "id": "128d72cb",
   "metadata": {},
   "outputs": [
    {
     "name": "stdout",
     "output_type": "stream",
     "text": [
      "Hello notebook\n"
     ]
    }
   ],
   "source": [
    "print(\"Hello notebook\")"
   ]
  },
  {
   "cell_type": "code",
   "execution_count": 2,
   "id": "1f2dacbb",
   "metadata": {},
   "outputs": [
    {
     "name": "stdout",
     "output_type": "stream",
     "text": [
      "[1 2 3 4]\n"
     ]
    }
   ],
   "source": [
    "import numpy as np\n",
    "\n",
    "a = np.array([[1, 2, 3, 4], [5, 6, 7, 8], [9, 10, 11, 12]]);\n",
    "\n",
    "print(a[0])"
   ]
  }
 ],
 "metadata": {
  "kernelspec": {
   "display_name": ".venv (3.13.2)",
   "language": "python",
   "name": "python3"
  },
  "language_info": {
   "codemirror_mode": {
    "name": "ipython",
    "version": 3
   },
   "file_extension": ".py",
   "mimetype": "text/x-python",
   "name": "python",
   "nbconvert_exporter": "python",
   "pygments_lexer": "ipython3",
   "version": "3.13.2"
  }
 },
 "nbformat": 4,
 "nbformat_minor": 5
}
